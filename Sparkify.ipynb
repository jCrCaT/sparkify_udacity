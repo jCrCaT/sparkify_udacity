{
 "cells": [
  {
   "cell_type": "markdown",
   "metadata": {},
   "source": [
    "# Sparkify Project Workspace\n",
    "This workspace contains a tiny subset (128MB) of the full dataset available (12GB). Feel free to use this workspace to build your project, or to explore a smaller subset with Spark before deploying your cluster on the cloud. Instructions for setting up your Spark cluster is included in the last lesson of the Extracurricular Spark Course content.\n",
    "\n",
    "You can follow the steps below to guide your data analysis and model building portion of this project."
   ]
  },
  {
   "cell_type": "code",
   "execution_count": 1,
   "metadata": {},
   "outputs": [],
   "source": [
    "# import libraries\n",
    "from pyspark.sql import SparkSession,Window\n",
    "from pyspark.sql.functions import col,isnan, when, count, udf, datediff, first, col, desc, sum as Fsum, max as Fmax, min as Fmin,countDistinct, rand\n",
    "import datetime\n",
    "from pyspark.sql.window import Window\n",
    "from pyspark.ml.classification import LogisticRegression, DecisionTreeClassifier,RandomForestClassifier, LinearSVC\n",
    "from pyspark.ml.feature import StandardScaler, VectorAssembler\n",
    "from pyspark.ml.evaluation import MulticlassClassificationEvaluator\n",
    "from pyspark.mllib.evaluation import MulticlassMetrics\n",
    "from pyspark.ml.tuning import CrossValidator, ParamGridBuilder\n",
    "\n",
    "from pyspark.sql.types import IntegerType, DateType\n",
    "import matplotlib.pyplot as plt\n",
    "import seaborn as sns"
   ]
  },
  {
   "cell_type": "code",
   "execution_count": 4,
   "metadata": {},
   "outputs": [],
   "source": [
    "# create a Spark session\n",
    "spark = SparkSession.builder.appName(\"Sparkify\").getOrCreate()"
   ]
  },
  {
   "cell_type": "markdown",
   "metadata": {},
   "source": [
    "# Load and Clean Dataset\n",
    "In this workspace, the mini-dataset file is `mini_sparkify_event_data.json`. Load and clean the dataset, checking for invalid or missing data - for example, records without userids or sessionids. "
   ]
  },
  {
   "cell_type": "code",
   "execution_count": 3,
   "metadata": {},
   "outputs": [],
   "source": [
    "path = 'mini_sparkify_event_data.json'\n",
    "data = spark.read.json(path)"
   ]
  },
  {
   "cell_type": "code",
   "execution_count": 4,
   "metadata": {},
   "outputs": [
    {
     "data": {
      "text/plain": [
       "[Row(artist='Martha Tilston', auth='Logged In', firstName='Colin', gender='M', itemInSession=50, lastName='Freeman', length=277.89016, level='paid', location='Bakersfield, CA', method='PUT', page='NextSong', registration=1538173362000, sessionId=29, song='Rockpools', status=200, ts=1538352117000, userAgent='Mozilla/5.0 (Windows NT 6.1; WOW64; rv:31.0) Gecko/20100101 Firefox/31.0', userId='30'),\n",
       " Row(artist='Five Iron Frenzy', auth='Logged In', firstName='Micah', gender='M', itemInSession=79, lastName='Long', length=236.09424, level='free', location='Boston-Cambridge-Newton, MA-NH', method='PUT', page='NextSong', registration=1538331630000, sessionId=8, song='Canada', status=200, ts=1538352180000, userAgent='\"Mozilla/5.0 (Windows NT 6.1; WOW64) AppleWebKit/537.36 (KHTML, like Gecko) Chrome/37.0.2062.103 Safari/537.36\"', userId='9'),\n",
       " Row(artist='Adam Lambert', auth='Logged In', firstName='Colin', gender='M', itemInSession=51, lastName='Freeman', length=282.8273, level='paid', location='Bakersfield, CA', method='PUT', page='NextSong', registration=1538173362000, sessionId=29, song='Time For Miracles', status=200, ts=1538352394000, userAgent='Mozilla/5.0 (Windows NT 6.1; WOW64; rv:31.0) Gecko/20100101 Firefox/31.0', userId='30'),\n",
       " Row(artist='Enigma', auth='Logged In', firstName='Micah', gender='M', itemInSession=80, lastName='Long', length=262.71302, level='free', location='Boston-Cambridge-Newton, MA-NH', method='PUT', page='NextSong', registration=1538331630000, sessionId=8, song='Knocking On Forbidden Doors', status=200, ts=1538352416000, userAgent='\"Mozilla/5.0 (Windows NT 6.1; WOW64) AppleWebKit/537.36 (KHTML, like Gecko) Chrome/37.0.2062.103 Safari/537.36\"', userId='9'),\n",
       " Row(artist='Daft Punk', auth='Logged In', firstName='Colin', gender='M', itemInSession=52, lastName='Freeman', length=223.60771, level='paid', location='Bakersfield, CA', method='PUT', page='NextSong', registration=1538173362000, sessionId=29, song='Harder Better Faster Stronger', status=200, ts=1538352676000, userAgent='Mozilla/5.0 (Windows NT 6.1; WOW64; rv:31.0) Gecko/20100101 Firefox/31.0', userId='30')]"
      ]
     },
     "execution_count": 4,
     "metadata": {},
     "output_type": "execute_result"
    }
   ],
   "source": [
    "data.take(5)"
   ]
  },
  {
   "cell_type": "code",
   "execution_count": 5,
   "metadata": {
    "scrolled": true
   },
   "outputs": [
    {
     "data": {
      "text/html": [
       "<div>\n",
       "<style scoped>\n",
       "    .dataframe tbody tr th:only-of-type {\n",
       "        vertical-align: middle;\n",
       "    }\n",
       "\n",
       "    .dataframe tbody tr th {\n",
       "        vertical-align: top;\n",
       "    }\n",
       "\n",
       "    .dataframe thead th {\n",
       "        text-align: right;\n",
       "    }\n",
       "</style>\n",
       "<table border=\"1\" class=\"dataframe\">\n",
       "  <thead>\n",
       "    <tr style=\"text-align: right;\">\n",
       "      <th></th>\n",
       "      <th>artist</th>\n",
       "      <th>auth</th>\n",
       "      <th>firstName</th>\n",
       "      <th>gender</th>\n",
       "      <th>itemInSession</th>\n",
       "      <th>lastName</th>\n",
       "      <th>length</th>\n",
       "      <th>level</th>\n",
       "      <th>location</th>\n",
       "      <th>method</th>\n",
       "      <th>page</th>\n",
       "      <th>registration</th>\n",
       "      <th>sessionId</th>\n",
       "      <th>song</th>\n",
       "      <th>status</th>\n",
       "      <th>ts</th>\n",
       "      <th>userAgent</th>\n",
       "      <th>userId</th>\n",
       "    </tr>\n",
       "  </thead>\n",
       "  <tbody>\n",
       "    <tr>\n",
       "      <th>0</th>\n",
       "      <td>58392</td>\n",
       "      <td>0</td>\n",
       "      <td>8346</td>\n",
       "      <td>8346</td>\n",
       "      <td>0</td>\n",
       "      <td>8346</td>\n",
       "      <td>58392</td>\n",
       "      <td>0</td>\n",
       "      <td>8346</td>\n",
       "      <td>0</td>\n",
       "      <td>0</td>\n",
       "      <td>8346</td>\n",
       "      <td>0</td>\n",
       "      <td>58392</td>\n",
       "      <td>0</td>\n",
       "      <td>0</td>\n",
       "      <td>8346</td>\n",
       "      <td>0</td>\n",
       "    </tr>\n",
       "  </tbody>\n",
       "</table>\n",
       "</div>"
      ],
      "text/plain": [
       "   artist  auth  firstName  gender  itemInSession  lastName  length  level  \\\n",
       "0   58392     0       8346    8346              0      8346   58392      0   \n",
       "\n",
       "   location  method  page  registration  sessionId   song  status  ts  \\\n",
       "0      8346       0     0          8346          0  58392       0   0   \n",
       "\n",
       "   userAgent  userId  \n",
       "0       8346       0  "
      ]
     },
     "execution_count": 5,
     "metadata": {},
     "output_type": "execute_result"
    }
   ],
   "source": [
    "#Get nulls\n",
    "nulls_pandas = data.select([count(when(isnan(c) | col(c).isNull(), c)).alias(c) for c in data.columns]).toPandas()\n",
    "nulls_pandas"
   ]
  },
  {
   "cell_type": "code",
   "execution_count": 6,
   "metadata": {},
   "outputs": [
    {
     "name": "stdout",
     "output_type": "stream",
     "text": [
      "+------+-----+\n",
      "|userId|count|\n",
      "+------+-----+\n",
      "|      | 8346|\n",
      "|    10|  795|\n",
      "|   100| 3214|\n",
      "|100001|  187|\n",
      "|100002|  218|\n",
      "|100003|   78|\n",
      "|100004| 1245|\n",
      "|100005|  216|\n",
      "|100006|   44|\n",
      "|100007|  520|\n",
      "|100008|  940|\n",
      "|100009|  671|\n",
      "|100010|  381|\n",
      "|100011|   23|\n",
      "|100012|  600|\n",
      "|100013| 1392|\n",
      "|100014|  310|\n",
      "|100015| 1050|\n",
      "|100016|  638|\n",
      "|100017|   75|\n",
      "+------+-----+\n",
      "only showing top 20 rows\n",
      "\n",
      "Load finished\n"
     ]
    }
   ],
   "source": [
    "#check users again\n",
    "data.groupBy(\"userId\").count().orderBy(\"userId\").show()\n",
    "#Users with space are null!!\n",
    "\n",
    "#Get the rows with no space\n",
    "data_sp = data.filter('userId != \"\"')\n",
    "print(\"Load finished\")"
   ]
  },
  {
   "cell_type": "code",
   "execution_count": 7,
   "metadata": {},
   "outputs": [
    {
     "name": "stdout",
     "output_type": "stream",
     "text": [
      "+------+-----+\n",
      "|userId|count|\n",
      "+------+-----+\n",
      "|   156|    6|\n",
      "|   135|    6|\n",
      "|   125|   11|\n",
      "|100011|   23|\n",
      "|300003|   35|\n",
      "|100024|   36|\n",
      "|    22|   40|\n",
      "|   133|   44|\n",
      "|100006|   44|\n",
      "|    90|   45|\n",
      "|    68|   48|\n",
      "|   134|   52|\n",
      "|   122|   62|\n",
      "|    64|   68|\n",
      "|    34|   73|\n",
      "|100017|   75|\n",
      "|200007|   76|\n",
      "|100003|   78|\n",
      "|   116|   79|\n",
      "|200012|   84|\n",
      "+------+-----+\n",
      "only showing top 20 rows\n",
      "\n"
     ]
    }
   ],
   "source": [
    "data_sp.groupBy(\"userId\").count().orderBy(\"count\",ascending=True).show()"
   ]
  },
  {
   "cell_type": "code",
   "execution_count": 8,
   "metadata": {},
   "outputs": [
    {
     "data": {
      "text/html": [
       "<div>\n",
       "<style scoped>\n",
       "    .dataframe tbody tr th:only-of-type {\n",
       "        vertical-align: middle;\n",
       "    }\n",
       "\n",
       "    .dataframe tbody tr th {\n",
       "        vertical-align: top;\n",
       "    }\n",
       "\n",
       "    .dataframe thead th {\n",
       "        text-align: right;\n",
       "    }\n",
       "</style>\n",
       "<table border=\"1\" class=\"dataframe\">\n",
       "  <thead>\n",
       "    <tr style=\"text-align: right;\">\n",
       "      <th></th>\n",
       "      <th>artist</th>\n",
       "      <th>auth</th>\n",
       "      <th>firstName</th>\n",
       "      <th>gender</th>\n",
       "      <th>itemInSession</th>\n",
       "      <th>lastName</th>\n",
       "      <th>length</th>\n",
       "      <th>level</th>\n",
       "      <th>location</th>\n",
       "      <th>method</th>\n",
       "      <th>page</th>\n",
       "      <th>registration</th>\n",
       "      <th>sessionId</th>\n",
       "      <th>song</th>\n",
       "      <th>status</th>\n",
       "      <th>ts</th>\n",
       "      <th>userAgent</th>\n",
       "      <th>userId</th>\n",
       "    </tr>\n",
       "  </thead>\n",
       "  <tbody>\n",
       "    <tr>\n",
       "      <th>0</th>\n",
       "      <td>Martha Tilston</td>\n",
       "      <td>Logged In</td>\n",
       "      <td>Colin</td>\n",
       "      <td>M</td>\n",
       "      <td>50</td>\n",
       "      <td>Freeman</td>\n",
       "      <td>277.89016</td>\n",
       "      <td>paid</td>\n",
       "      <td>Bakersfield, CA</td>\n",
       "      <td>PUT</td>\n",
       "      <td>NextSong</td>\n",
       "      <td>1538173362000</td>\n",
       "      <td>29</td>\n",
       "      <td>Rockpools</td>\n",
       "      <td>200</td>\n",
       "      <td>1538352117000</td>\n",
       "      <td>Mozilla/5.0 (Windows NT 6.1; WOW64; rv:31.0) G...</td>\n",
       "      <td>30</td>\n",
       "    </tr>\n",
       "    <tr>\n",
       "      <th>1</th>\n",
       "      <td>Five Iron Frenzy</td>\n",
       "      <td>Logged In</td>\n",
       "      <td>Micah</td>\n",
       "      <td>M</td>\n",
       "      <td>79</td>\n",
       "      <td>Long</td>\n",
       "      <td>236.09424</td>\n",
       "      <td>free</td>\n",
       "      <td>Boston-Cambridge-Newton, MA-NH</td>\n",
       "      <td>PUT</td>\n",
       "      <td>NextSong</td>\n",
       "      <td>1538331630000</td>\n",
       "      <td>8</td>\n",
       "      <td>Canada</td>\n",
       "      <td>200</td>\n",
       "      <td>1538352180000</td>\n",
       "      <td>\"Mozilla/5.0 (Windows NT 6.1; WOW64) AppleWebK...</td>\n",
       "      <td>9</td>\n",
       "    </tr>\n",
       "    <tr>\n",
       "      <th>2</th>\n",
       "      <td>Adam Lambert</td>\n",
       "      <td>Logged In</td>\n",
       "      <td>Colin</td>\n",
       "      <td>M</td>\n",
       "      <td>51</td>\n",
       "      <td>Freeman</td>\n",
       "      <td>282.82730</td>\n",
       "      <td>paid</td>\n",
       "      <td>Bakersfield, CA</td>\n",
       "      <td>PUT</td>\n",
       "      <td>NextSong</td>\n",
       "      <td>1538173362000</td>\n",
       "      <td>29</td>\n",
       "      <td>Time For Miracles</td>\n",
       "      <td>200</td>\n",
       "      <td>1538352394000</td>\n",
       "      <td>Mozilla/5.0 (Windows NT 6.1; WOW64; rv:31.0) G...</td>\n",
       "      <td>30</td>\n",
       "    </tr>\n",
       "    <tr>\n",
       "      <th>3</th>\n",
       "      <td>Enigma</td>\n",
       "      <td>Logged In</td>\n",
       "      <td>Micah</td>\n",
       "      <td>M</td>\n",
       "      <td>80</td>\n",
       "      <td>Long</td>\n",
       "      <td>262.71302</td>\n",
       "      <td>free</td>\n",
       "      <td>Boston-Cambridge-Newton, MA-NH</td>\n",
       "      <td>PUT</td>\n",
       "      <td>NextSong</td>\n",
       "      <td>1538331630000</td>\n",
       "      <td>8</td>\n",
       "      <td>Knocking On Forbidden Doors</td>\n",
       "      <td>200</td>\n",
       "      <td>1538352416000</td>\n",
       "      <td>\"Mozilla/5.0 (Windows NT 6.1; WOW64) AppleWebK...</td>\n",
       "      <td>9</td>\n",
       "    </tr>\n",
       "    <tr>\n",
       "      <th>4</th>\n",
       "      <td>Daft Punk</td>\n",
       "      <td>Logged In</td>\n",
       "      <td>Colin</td>\n",
       "      <td>M</td>\n",
       "      <td>52</td>\n",
       "      <td>Freeman</td>\n",
       "      <td>223.60771</td>\n",
       "      <td>paid</td>\n",
       "      <td>Bakersfield, CA</td>\n",
       "      <td>PUT</td>\n",
       "      <td>NextSong</td>\n",
       "      <td>1538173362000</td>\n",
       "      <td>29</td>\n",
       "      <td>Harder Better Faster Stronger</td>\n",
       "      <td>200</td>\n",
       "      <td>1538352676000</td>\n",
       "      <td>Mozilla/5.0 (Windows NT 6.1; WOW64; rv:31.0) G...</td>\n",
       "      <td>30</td>\n",
       "    </tr>\n",
       "  </tbody>\n",
       "</table>\n",
       "</div>"
      ],
      "text/plain": [
       "             artist       auth firstName gender  itemInSession lastName  \\\n",
       "0    Martha Tilston  Logged In     Colin      M             50  Freeman   \n",
       "1  Five Iron Frenzy  Logged In     Micah      M             79     Long   \n",
       "2      Adam Lambert  Logged In     Colin      M             51  Freeman   \n",
       "3            Enigma  Logged In     Micah      M             80     Long   \n",
       "4         Daft Punk  Logged In     Colin      M             52  Freeman   \n",
       "\n",
       "      length level                        location method      page  \\\n",
       "0  277.89016  paid                 Bakersfield, CA    PUT  NextSong   \n",
       "1  236.09424  free  Boston-Cambridge-Newton, MA-NH    PUT  NextSong   \n",
       "2  282.82730  paid                 Bakersfield, CA    PUT  NextSong   \n",
       "3  262.71302  free  Boston-Cambridge-Newton, MA-NH    PUT  NextSong   \n",
       "4  223.60771  paid                 Bakersfield, CA    PUT  NextSong   \n",
       "\n",
       "    registration  sessionId                           song  status  \\\n",
       "0  1538173362000         29                      Rockpools     200   \n",
       "1  1538331630000          8                         Canada     200   \n",
       "2  1538173362000         29              Time For Miracles     200   \n",
       "3  1538331630000          8    Knocking On Forbidden Doors     200   \n",
       "4  1538173362000         29  Harder Better Faster Stronger     200   \n",
       "\n",
       "              ts                                          userAgent userId  \n",
       "0  1538352117000  Mozilla/5.0 (Windows NT 6.1; WOW64; rv:31.0) G...     30  \n",
       "1  1538352180000  \"Mozilla/5.0 (Windows NT 6.1; WOW64) AppleWebK...      9  \n",
       "2  1538352394000  Mozilla/5.0 (Windows NT 6.1; WOW64; rv:31.0) G...     30  \n",
       "3  1538352416000  \"Mozilla/5.0 (Windows NT 6.1; WOW64) AppleWebK...      9  \n",
       "4  1538352676000  Mozilla/5.0 (Windows NT 6.1; WOW64; rv:31.0) G...     30  "
      ]
     },
     "execution_count": 8,
     "metadata": {},
     "output_type": "execute_result"
    }
   ],
   "source": [
    "#Data with no blank users\n",
    "data_sp.toPandas().head()"
   ]
  },
  {
   "cell_type": "markdown",
   "metadata": {},
   "source": [
    "# Exploratory Data Analysis\n",
    "When you're working with the full dataset, perform EDA by loading a small subset of the data and doing basic manipulations within Spark. In this workspace, you are already provided a small subset of data you can explore.\n",
    "\n",
    "### Define Churn\n",
    "\n",
    "Once you've done some preliminary analysis, create a column `Churn` to use as the label for your model. I suggest using the `Cancellation Confirmation` events to define your churn, which happen for both paid and free users. As a bonus task, you can also look into the `Downgrade` events.\n",
    "\n",
    "### Explore Data\n",
    "Once you've defined churn, perform some exploratory data analysis to observe the behavior for users who stayed vs users who churned. You can start by exploring aggregates on these two groups of users, observing how much of a specific action they experienced per a certain time unit or number of songs played."
   ]
  },
  {
   "cell_type": "code",
   "execution_count": 9,
   "metadata": {},
   "outputs": [
    {
     "name": "stdout",
     "output_type": "stream",
     "text": [
      "root\n",
      " |-- artist: string (nullable = true)\n",
      " |-- auth: string (nullable = true)\n",
      " |-- firstName: string (nullable = true)\n",
      " |-- gender: string (nullable = true)\n",
      " |-- itemInSession: long (nullable = true)\n",
      " |-- lastName: string (nullable = true)\n",
      " |-- length: double (nullable = true)\n",
      " |-- level: string (nullable = true)\n",
      " |-- location: string (nullable = true)\n",
      " |-- method: string (nullable = true)\n",
      " |-- page: string (nullable = true)\n",
      " |-- registration: long (nullable = true)\n",
      " |-- sessionId: long (nullable = true)\n",
      " |-- song: string (nullable = true)\n",
      " |-- status: long (nullable = true)\n",
      " |-- ts: long (nullable = true)\n",
      " |-- userAgent: string (nullable = true)\n",
      " |-- userId: string (nullable = true)\n",
      "\n"
     ]
    }
   ],
   "source": [
    "#Get the Schema\n",
    "data_sp.printSchema()"
   ]
  },
  {
   "cell_type": "code",
   "execution_count": 10,
   "metadata": {},
   "outputs": [
    {
     "name": "stdout",
     "output_type": "stream",
     "text": [
      "Rows 286500 \n"
     ]
    }
   ],
   "source": [
    "#Get Rows\n",
    "print(f'Rows {data.count()} ')"
   ]
  },
  {
   "cell_type": "code",
   "execution_count": 11,
   "metadata": {},
   "outputs": [],
   "source": [
    "#FUNCTIONS\n",
    "\n",
    "#Get clients who cancelled the account (Cancellation Confirmation)\n",
    "cancellation = udf(lambda x: 1 if x ==\"Cancellation Confirmation\" else 0, IntegerType())\n",
    "\n",
    "\n",
    "#Get clients who downgraded the account (Downgrade)\n",
    "downgrade = udf(lambda x: 1 if x ==\"Downgrade\" else 0, IntegerType())\n",
    "\n",
    "\n",
    "#Flag to downgrade\n",
    "flag_downgrade = udf(lambda x: 1 if x == \"Submit Downgrade\" else 0,IntegerType())\n",
    "\n",
    "#Transform TS to date\n",
    "ts_date = udf(lambda x: datetime.datetime.fromtimestamp(x/ 1000.0).strftime(\"%Y-%m-%d %H:%M:%S\"))\n",
    "\n",
    "\n",
    "#Get the difference between two dates\n",
    "datediff_event = udf(lambda x,y: datediff(col(x),col(y)))\n",
    "\n",
    "\n",
    "#Get when user plays a song\n",
    "next_song = udf(lambda x: 1 if x == \"NextSong\" else 0, IntegerType())\n",
    "\n",
    "\n",
    "#Churned user\n",
    "churned = udf(lambda x: 1 if x > 0  else 0, IntegerType())\n",
    "\n",
    "window = Window.partitionBy(\"userId\").orderBy(desc(\"ts\")).rangeBetween(Window.unboundedPreceding, 0)"
   ]
  },
  {
   "cell_type": "code",
   "execution_count": 12,
   "metadata": {},
   "outputs": [
    {
     "name": "stdout",
     "output_type": "stream",
     "text": [
      "+------+----------+---------+---------+------+-------------+---------+---------+-----+--------------------+------+-----------+-------------+---------+-------------------+------+-------------+--------------------+----------------+------------+-------------------+-------------------+--------+-----+--------------+---------+\n",
      "|userId|    artist|     auth|firstName|gender|itemInSession| lastName|   length|level|            location|method|       page| registration|sessionId|               song|status|           ts|           userAgent|submit_downgrade|cancellation|            ts_date|  registration_date|datediff|phase|countChurnPage|userChurn|\n",
      "+------+----------+---------+---------+------+-------------+---------+---------+-----+--------------------+------+-----------+-------------+---------+-------------------+------+-------------+--------------------+----------------+------------+-------------------+-------------------+--------+-----+--------------+---------+\n",
      "|100010|      null|Logged In| Darianna|     F|           34|Carpenter|     null| free|Bridgeport-Stamfo...|   PUT|     Logout|1538016340000|      187|               null|   307|1542823952000|\"Mozilla/5.0 (iPh...|               0|           0|2018-11-21 18:12:32|2018-09-27 02:45:40|      55|    0|             0|        0|\n",
      "|100010|Lily Allen|Logged In| Darianna|     F|           33|Carpenter|185.25995| free|Bridgeport-Stamfo...|   PUT|   NextSong|1538016340000|      187|                 22|   200|1542823951000|\"Mozilla/5.0 (iPh...|               0|           0|2018-11-21 18:12:31|2018-09-27 02:45:40|      55|    0|             0|        0|\n",
      "|100010|John Waite|Logged In| Darianna|     F|           32|Carpenter|269.76608| free|Bridgeport-Stamfo...|   PUT|   NextSong|1538016340000|      187|        Missing You|   200|1542823682000|\"Mozilla/5.0 (iPh...|               0|           0|2018-11-21 18:08:02|2018-09-27 02:45:40|      55|    0|             0|        0|\n",
      "|100010|   Hermano|Logged In| Darianna|     F|           31|Carpenter|115.90485| free|Bridgeport-Stamfo...|   PUT|   NextSong|1538016340000|      187|Letters From Madrid|   200|1542823567000|\"Mozilla/5.0 (iPh...|               0|           0|2018-11-21 18:06:07|2018-09-27 02:45:40|      55|    0|             0|        0|\n",
      "|100010|      null|Logged In| Darianna|     F|           30|Carpenter|     null| free|Bridgeport-Stamfo...|   GET|Roll Advert|1538016340000|      187|               null|   200|1542823257000|\"Mozilla/5.0 (iPh...|               0|           0|2018-11-21 18:00:57|2018-09-27 02:45:40|      55|    0|             0|        0|\n",
      "+------+----------+---------+---------+------+-------------+---------+---------+-----+--------------------+------+-----------+-------------+---------+-------------------+------+-------------+--------------------+----------------+------------+-------------------+-------------------+--------+-----+--------------+---------+\n",
      "only showing top 5 rows\n",
      "\n"
     ]
    }
   ],
   "source": [
    "data_sp = data_sp.withColumn(\"submit_downgrade\",flag_downgrade(\"page\"))\\\n",
    "    .withColumn(\"cancellation\",cancellation(\"page\"))\\\n",
    "    .withColumn(\"ts_date\",ts_date(\"ts\"))\\\n",
    "    .withColumn(\"registration_date\",ts_date(\"registration\"))\\\n",
    "    .withColumn(\"datediff\",datediff(col(\"ts_date\"),col(\"registration_date\")))\\\n",
    "    .withColumn(\"phase\", Fsum(\"submit_downgrade\").over(window))\n",
    "\n",
    "users_churned = data_sp.select(\"userId\").filter(\"page == 'Cancellation Confirmation' or page == 'Submit Downgrade'\").groupBy(\"userId\").count().withColumnRenamed('count', 'countChurnPage')\n",
    "data_sp = data_sp.join(users_churned,on=[\"userId\"],how=\"left\")\n",
    "data_sp = data_sp.na.fill(value=0,subset=[\"countChurnPage\"])\n",
    "data_sp = data_sp.withColumn(\"userChurn\",churned(\"countChurnPage\"))\n",
    "data_sp.na.fill(value=0,subset=[\"userChurn\"])\n",
    "\n",
    "data_sp.show(5)"
   ]
  },
  {
   "cell_type": "code",
   "execution_count": 20,
   "metadata": {},
   "outputs": [
    {
     "data": {
      "image/png": "[encoded data removed]",
      "text/plain": [
       "<matplotlib.figure.Figure at 0x7f00e9b64240>"
      ]
     },
     "metadata": {
      "needs_background": "light"
     },
     "output_type": "display_data"
    }
   ],
   "source": [
    "fig_dims = (10, 10)\n",
    "fig, ax = plt.subplots(figsize=fig_dims)\n",
    "\n",
    "graph = sns.barplot(x='gender',\n",
    "                    y='count',\n",
    "                    hue=\"userChurn\",\n",
    "                    data=data_sp.select(\"userId\",\"gender\",\"userChurn\").distinct().groupby(['gender',\"userChurn\"]).count().toPandas())"
   ]
  },
  {
   "cell_type": "code",
   "execution_count": 14,
   "metadata": {},
   "outputs": [
    {
     "data": {
      "image/png": "[encoded data removed]",
      "text/plain": [
       "<matplotlib.figure.Figure at 0x7f00ea31d240>"
      ]
     },
     "metadata": {
      "needs_background": "light"
     },
     "output_type": "display_data"
    }
   ],
   "source": [
    "#count of sessions by sessionId\n",
    "fig_dims = (25, 10)\n",
    "fig, ax = plt.subplots(figsize=fig_dims)\n",
    "\n",
    "#Page counts \n",
    "graph = sns.barplot(\n",
    "            x='sessionId',\n",
    "            y='count',\n",
    "            ax=ax,\n",
    "            data=data_sp.groupBy(\"sessionId\").count().orderBy(\"sessionId\",ascending=False).toPandas())"
   ]
  },
  {
   "cell_type": "code",
   "execution_count": 15,
   "metadata": {},
   "outputs": [
    {
     "data": {
      "image/png": "[encoded data removed]",
      "text/plain": [
       "<matplotlib.figure.Figure at 0x7f00de36d438>"
      ]
     },
     "metadata": {
      "needs_background": "light"
     },
     "output_type": "display_data"
    }
   ],
   "source": [
    "#count of pages visited\n",
    "fig_dims = (25, 10)\n",
    "fig, ax = plt.subplots(figsize=fig_dims)\n",
    "\n",
    "#Page counts \n",
    "graph = sns.barplot(\n",
    "            x='page',\n",
    "            y='count',\n",
    "            ax=ax,\n",
    "            data=data_sp.groupby(\"page\").count().orderBy(\"count\",ascending=False).toPandas())"
   ]
  },
  {
   "cell_type": "code",
   "execution_count": 16,
   "metadata": {},
   "outputs": [
    {
     "data": {
      "image/png": "[encoded data removed]",
      "text/plain": [
       "<matplotlib.figure.Figure at 0x7f00e25f0278>"
      ]
     },
     "metadata": {
      "needs_background": "light"
     },
     "output_type": "display_data"
    }
   ],
   "source": [
    "#Get days between registration and churn\n",
    "data_diff_days = data_sp.filter(\"submit_downgrade == 1 OR cancellation == 1\").toPandas()\n",
    "sns.distplot(data_diff_days['datediff'], hist=True, kde=False, \n",
    "             bins=30, color = 'blue',\n",
    "             hist_kws={'edgecolor':'black'})\n",
    "plt.show()"
   ]
  },
  {
   "cell_type": "code",
   "execution_count": 17,
   "metadata": {},
   "outputs": [],
   "source": [
    "downgrade_1 = data_sp.filter(\"submit_downgrade == 1\")\n",
    "user_list = downgrade_1.select(\"userId\").distinct().rdd.map(lambda x: x[0]).collect()\n",
    "user_leave = data_sp.where(col(\"userId\").isin(user_list)).withColumn(\"next_song\",next_song(\"page\"))\n",
    "user_no_leave = data_sp.where(~col(\"userId\").isin(user_list)).withColumn(\"next_song\",next_song(\"page\"))"
   ]
  },
  {
   "cell_type": "code",
   "execution_count": 18,
   "metadata": {},
   "outputs": [
    {
     "name": "stdout",
     "output_type": "stream",
     "text": [
      "+-------------------+\n",
      "|avg(sum(next_song))|\n",
      "+-------------------+\n",
      "|  801.5511363636364|\n",
      "+-------------------+\n",
      "\n"
     ]
    }
   ],
   "source": [
    "#Average of songs played for users who didnt churned the app\n",
    "user_no_leave.groupby(\"userId\").agg({'next_song':'sum'}).agg({'sum(next_song)':'avg'}).show()"
   ]
  },
  {
   "cell_type": "code",
   "execution_count": 19,
   "metadata": {},
   "outputs": [
    {
     "name": "stdout",
     "output_type": "stream",
     "text": [
      "+-------------------+\n",
      "|avg(sum(next_song))|\n",
      "+-------------------+\n",
      "| 1776.2244897959183|\n",
      "+-------------------+\n",
      "\n"
     ]
    }
   ],
   "source": [
    "#Average of songs played for users who churned the app\n",
    "user_leave.groupby(\"userId\").agg({'next_song':'sum'}).agg({'sum(next_song)':'avg'}).show()"
   ]
  },
  {
   "cell_type": "markdown",
   "metadata": {},
   "source": [
    "# Feature Engineering\n",
    "Once you've familiarized yourself with the data, build out the features you find promising to train your model on. To work with the full dataset, you can follow the following steps.\n",
    "- Write a script to extract the necessary features from the smaller subset of data\n",
    "- Ensure that your script is scalable, using the best practices discussed in Lesson 3\n",
    "- Try your script on the full data set, debugging your script if necessary\n",
    "\n",
    "If you are working in the classroom workspace, you can just extract features based on the small subset of data contained here. Be sure to transfer over this work to the larger dataset when you work on your Spark cluster."
   ]
  },
  {
   "cell_type": "code",
   "execution_count": 2,
   "metadata": {},
   "outputs": [
    {
     "name": "stdout",
     "output_type": "stream",
     "text": [
      "+------+-----------+--------+----------+-----+-----------+--------+------+----+-----------------+-----+\n",
      "|userId|songsPlayed|thumbsUp|thumbsDown|Error|HelpVisited|sessions|female|male|      avgSessions|Churn|\n",
      "+------+-----------+--------+----------+-----+-----------+--------+------+----+-----------------+-----+\n",
      "|100010|        275|      17|         5|    0|          2|       7|     1|   0|           9269.0|    0|\n",
      "|200002|        387|      21|         6|    0|          2|       6|     0|   1|          15984.0|    0|\n",
      "|   125|          8|       0|         0|    0|          0|       1|     0|   1|           1774.0|    1|\n",
      "|   124|       4079|     171|        41|    6|         23|      29|     1|   0|34739.65517241379|    0|\n",
      "|    51|       2111|     100|        21|    1|         12|      10|     0|   1|          52341.4|    1|\n",
      "+------+-----------+--------+----------+-----+-----------+--------+------+----+-----------------+-----+\n",
      "only showing top 5 rows\n",
      "\n"
     ]
    }
   ],
   "source": [
    "def create_dataset(dataset):\n",
    "    '''\n",
    "        DESC: THIS FUNCTION IS USED TO GROUP THE DATA TO BE PROCESSED IN A ML ALGORITHM\n",
    "        INPUT:\n",
    "            dataset: Dataset to be used by the grouping function\n",
    "        OUTPUT:\n",
    "            dataset: New dataset with data grouped\n",
    "    '''    \n",
    "    #FUNCTIONS\n",
    "    #Get clients who cancelled the account (Cancellation Confirmation)\n",
    "    cancellation = udf(lambda x: 1 if x ==\"Cancellation Confirmation\" else 0, IntegerType())\n",
    "    #Get clients who downgraded the account (Downgrade)\n",
    "    downgrade = udf(lambda x: 1 if x ==\"Downgrade\" else 0, IntegerType())\n",
    "    #Flag to downgrade\n",
    "    flag_downgrade = udf(lambda x: 1 if x == \"Submit Downgrade\" else 0,IntegerType())\n",
    "    #Transform TS to date\n",
    "    ts_date = udf(lambda x: datetime.datetime.fromtimestamp(x/ 1000.0).strftime(\"%Y-%m-%d %H:%M:%S\"))\n",
    "    #Get the difference between two dates\n",
    "    datediff_event = udf(lambda x,y: datediff(col(x),col(y)))\n",
    "    #Get when user plays a song\n",
    "    next_song = udf(lambda x: 1 if x == \"NextSong\" else 0, IntegerType())\n",
    "    window = Window.partitionBy(\"userId\").orderBy(desc(\"ts\")).rangeBetween(Window.unboundedPreceding, 0)\n",
    "    \n",
    "    #COLS\n",
    "    #Creates cols used to create new features on the dataset\n",
    "    dataset = dataset.withColumn(\"submit_downgrade\",flag_downgrade(\"page\"))\\\n",
    "    .withColumn(\"cancellation\",cancellation(\"page\"))\\\n",
    "    .withColumn(\"ts_date\",ts_date(\"ts\"))\\\n",
    "    .withColumn(\"registration_date\",ts_date(\"registration\"))\\\n",
    "    .withColumn(\"datediff\",datediff(col(\"ts_date\"),col(\"registration_date\")))\\\n",
    "    .withColumn(\"phase\", Fsum(\"submit_downgrade\").over(window))\n",
    "    \n",
    "    #Grouping columns\n",
    "    songs_played = dataset.select(\"userId\").filter(\"page == 'NextSong'\").groupBy(\"userId\").count().withColumnRenamed('count', 'songsPlayed')\n",
    "    thumbs_up = dataset.select(\"userId\").filter(\"page == 'Thumbs Up'\").groupBy(\"userId\").count().withColumnRenamed('count', 'thumbsUp')\n",
    "    thumbs_down = dataset.select(\"userId\").filter(\"page == 'Thumbs Down'\").groupBy(\"userId\").count().withColumnRenamed('count', 'thumbsDown')\n",
    "    error = dataset.select(\"userId\").filter(\"page == 'Error'\").groupBy(\"userId\").count().withColumnRenamed('count', 'Error')\n",
    "    help_page = dataset.select(\"userId\").filter(\"page == 'Help'\").groupBy(\"userId\").count().withColumnRenamed('count', 'HelpVisited')\n",
    "    sessions = dataset.select(\"userId\",\"sessionId\").filter(\"phase == 0\").groupby(\"userId\").agg(countDistinct(\"sessionId\").alias(\"sessions\")).withColumnRenamed('sessions', 'sessions')\n",
    "    gender_female = dataset.select(\"userId\",\"gender\").groupby('userId').agg(first(when(col('gender') == \"F\", 1)).alias(\"female\")).withColumnRenamed('female', 'female')\n",
    "    gender_male = dataset.select(\"userId\",\"gender\").groupby('userId').agg(first(when(col('gender') == \"M\", 1)).alias(\"male\")).withColumnRenamed('male', 'male')    \n",
    "\n",
    "    sessions_length = dataset.select(\"userId\",\"sessionId\",\"ts\").groupby(['userId','sessionId']) \\\n",
    "                        .agg(((Fmax('ts') - Fmin('ts'))/1000).alias('sessionlength'))\n",
    "    avg_user_session = sessions_length.groupby(\"userId\").agg({\"sessionlength\": \"avg\"}).withColumnRenamed('avg(sessionlength)', 'avgSessions')\n",
    "    churn_user = dataset.select(\"userId\").filter(\"page == 'Cancellation Confirmation'\").groupby(\"UserId\").count().withColumnRenamed('count','Churn')\n",
    "\n",
    "    #Creating dataset\n",
    "    users = dataset.select(\"userId\").distinct()\n",
    "    users = users.join(songs_played,on=[\"userId\"],how=\"left\")\n",
    "    users = users.join(thumbs_up, on=[\"userId\"],how=\"left\")\n",
    "    users = users.join(thumbs_down,on=[\"userId\"],how=\"left\")\n",
    "    users = users.join(error,on=[\"userId\"],how=\"left\")\n",
    "    users = users.join(help_page,on=[\"userId\"],how=\"left\")\n",
    "    users = users.join(sessions,on=[\"userId\"],how=\"left\")\n",
    "    users = users.join(gender_female,on=[\"userId\"],how=\"left\")\n",
    "    users = users.join(gender_male,on=[\"userId\"],how=\"left\")\n",
    "    users = users.join(avg_user_session,on=[\"userId\"],how=\"left\")\n",
    "    users = users.join(churn_user,on=['userId'],how=\"left\")\n",
    "    users = users.na.fill(value=0)\n",
    "    \n",
    "    return users\n",
    "        \n",
    "    \n",
    "spark_ml = SparkSession.builder.appName(\"Sparkify_ml\").getOrCreate()\n",
    "json_data = spark_ml.read.json('mini_sparkify_event_data.json')\n",
    "new_dataset = create_dataset(json_data)\n",
    "new_dataset.show(5)"
   ]
  },
  {
   "cell_type": "markdown",
   "metadata": {},
   "source": [
    "# Modeling\n",
    "Split the full dataset into train, test, and validation sets. Test out several of the machine learning methods you learned. Evaluate the accuracy of the various models, tuning parameters as necessary. Determine your winning model based on test accuracy and report results on the validation set. Since the churned users are a fairly small subset, I suggest using F1 score as the metric to optimize."
   ]
  },
  {
   "cell_type": "code",
   "execution_count": 3,
   "metadata": {},
   "outputs": [
    {
     "name": "stdout",
     "output_type": "stream",
     "text": [
      "+-----+-----+\n",
      "|Churn|count|\n",
      "+-----+-----+\n",
      "|    0|  174|\n",
      "|    1|   52|\n",
      "+-----+-----+\n",
      "\n"
     ]
    }
   ],
   "source": [
    "#Lets see the distribution of data\n",
    "new_dataset.groupby('Churn').count().show()"
   ]
  },
  {
   "cell_type": "code",
   "execution_count": 4,
   "metadata": {},
   "outputs": [],
   "source": [
    "#Get the number of churned clients\n",
    "count_churn = new_dataset.filter('Churn == 1').count()\n",
    "\n",
    "# two classes with the same size\n",
    "new_dataset = new_dataset.filter('Churn == 1').union(new_dataset.filter('Churn == 0').sample(1.0,seed=42)\\\n",
    "                                                     .limit(count_churn)).orderBy(rand())"
   ]
  },
  {
   "cell_type": "code",
   "execution_count": 5,
   "metadata": {},
   "outputs": [
    {
     "name": "stdout",
     "output_type": "stream",
     "text": [
      "+-----+-----+\n",
      "|Churn|count|\n",
      "+-----+-----+\n",
      "|    0|   52|\n",
      "|    1|   52|\n",
      "+-----+-----+\n",
      "\n"
     ]
    }
   ],
   "source": [
    "new_dataset.groupby('Churn').count().show()"
   ]
  },
  {
   "cell_type": "code",
   "execution_count": 6,
   "metadata": {},
   "outputs": [
    {
     "name": "stdout",
     "output_type": "stream",
     "text": [
      "+-----+--------------------+\n",
      "|label|            features|\n",
      "+-----+--------------------+\n",
      "|    1|[0.0,1.0,-0.85674...|\n",
      "|    1|[0.0,1.0,-0.16732...|\n",
      "|    0|[1.0,0.0,0.651843...|\n",
      "|    0|[0.0,1.0,-0.63694...|\n",
      "|    1|[0.0,1.0,-0.89644...|\n",
      "+-----+--------------------+\n",
      "only showing top 5 rows\n",
      "\n"
     ]
    }
   ],
   "source": [
    "#Churn must to be removed\n",
    "numeric_cols = ['songsPlayed','thumbsUp','thumbsDown','Error','HelpVisited','sessions','avgSessions']\n",
    "categoric_cols = ['female','male']\n",
    "\n",
    "#female y male columns are those no scalar features\n",
    "vector = VectorAssembler(inputCols=numeric_cols, outputCol='vct_features_num')\n",
    "vector_transformed = vector.transform(new_dataset)\n",
    "std_scaler = StandardScaler(withMean=True, withStd=True, inputCol='vct_features_num', outputCol='scl_features')\n",
    "scaled_dataset = std_scaler.fit(vector_transformed)\n",
    "scaled_ds = scaled_dataset.transform(vector_transformed)\n",
    "\n",
    "#songsPlayed|thumbsUp|thumbsDown|Error|HelpVisited|sessions|female|male|avgSessions|Churn\n",
    "vector = VectorAssembler(inputCols=categoric_cols+['scl_features'], outputCol='features')\n",
    "vector_transformed = vector.transform(scaled_ds)\n",
    "dataset = vector_transformed.select(vector_transformed['Churn'].alias('label'), vector_transformed['features'].alias('features'))\n",
    "dataset.show(5)"
   ]
  },
  {
   "cell_type": "code",
   "execution_count": 7,
   "metadata": {},
   "outputs": [],
   "source": [
    "train, test = dataset.randomSplit(weights=[0.8,0.2], seed=42)"
   ]
  },
  {
   "cell_type": "code",
   "execution_count": 8,
   "metadata": {
    "scrolled": true
   },
   "outputs": [
    {
     "name": "stdout",
     "output_type": "stream",
     "text": [
      "---------------------\n",
      "Model: LogisticRegression\n",
      "\n",
      "F1:0.6190476190476191\n",
      "Accuracy:0.6190476190476191\n",
      "---------------------\n",
      "\n",
      "---------------------\n",
      "Model: DecisionTreeClassifier\n",
      "\n",
      "F1:0.5650793650793651\n",
      "Accuracy:0.5714285714285714\n",
      "---------------------\n",
      "\n",
      "---------------------\n",
      "Model: RandomForestClassifier\n",
      "\n",
      "F1:0.6190476190476191\n",
      "Accuracy:0.6190476190476191\n",
      "---------------------\n",
      "\n",
      "---------------------\n",
      "Model: LinearSVC\n",
      "\n",
      "F1:0.5650793650793651\n",
      "Accuracy:0.5714285714285714\n",
      "---------------------\n",
      "\n"
     ]
    }
   ],
   "source": [
    "LR = LogisticRegression(maxIter=25)\n",
    "DT = DecisionTreeClassifier(seed=42)\n",
    "RF = RandomForestClassifier(seed=42)\n",
    "LSVC = LinearSVC()\n",
    "\n",
    "ev= MulticlassClassificationEvaluator(predictionCol=\"prediction\")\n",
    "\n",
    "def prediction_function(model,train_set,test_set,evaluator):\n",
    "    fitted_dataset = model.fit(train_set)\n",
    "    prediction = fitted_dataset.transform(test_set)\n",
    "    print(\"---------------------\")\n",
    "    print(\"Model: \"+ str(model.__class__.__name__))\n",
    "    print(\"\")\n",
    "    print(\"F1:\"+ str(ev.evaluate(prediction.select('label','prediction'),{evaluator.metricName: 'f1'})))\n",
    "    print(\"Accuracy:\"+ str(ev.evaluate(prediction.select('label','prediction'),{evaluator.metricName: 'accuracy'})))\n",
    "    print(\"---------------------\")\n",
    "    print(\"\")\n",
    "    \n",
    "prediction_function(LR,train,test,ev)\n",
    "prediction_function(DT,train,test,ev)\n",
    "prediction_function(RF,train,test,ev)\n",
    "prediction_function(LSVC,train,test,ev)"
   ]
  },
  {
   "cell_type": "code",
   "execution_count": 9,
   "metadata": {},
   "outputs": [
    {
     "name": "stdout",
     "output_type": "stream",
     "text": [
      "Accuracy: 0.6190476190476191\n",
      "F-1 Score:0.6190476190476191\n"
     ]
    }
   ],
   "source": [
    "#Lets improve the best model: Logistic Regression\n",
    "grid = ParamGridBuilder()\\\n",
    "        .addGrid(LR.regParam, [0.5,0.1, 0.01])\\\n",
    "        .addGrid(LR.maxIter, [25,50, 200])\\\n",
    "        .build()\n",
    "\n",
    "crossval = CrossValidator(estimator=LR,\n",
    "                          estimatorParamMaps=grid,\n",
    "                          evaluator=MulticlassClassificationEvaluator(metricName=\"f1\"),\n",
    "                          numFolds=2)\n",
    "cv_train = crossval.fit(train)\n",
    "cv_test = cv_train.transform(test)\n",
    "\n",
    "print('Accuracy: {}'.format(ev.evaluate(cv_test.select('label','prediction'), {ev.metricName: \"accuracy\"})))\n",
    "print('F-1 Score:{}'.format(ev.evaluate(cv_test.select('label','prediction'), {ev.metricName: \"f1\"})))"
   ]
  },
  {
   "cell_type": "code",
   "execution_count": 10,
   "metadata": {
    "scrolled": true
   },
   "outputs": [
    {
     "data": {
      "text/plain": [
       "[({Param(parent='LogisticRegression_326f6aa1e3c5', name='regParam', doc='regularization parameter (>= 0).'): 0.5,\n",
       "   Param(parent='LogisticRegression_326f6aa1e3c5', name='maxIter', doc='max number of iterations (>= 0).'): 25},\n",
       "  0.3411310924889651),\n",
       " ({Param(parent='LogisticRegression_326f6aa1e3c5', name='regParam', doc='regularization parameter (>= 0).'): 0.5,\n",
       "   Param(parent='LogisticRegression_326f6aa1e3c5', name='maxIter', doc='max number of iterations (>= 0).'): 50},\n",
       "  0.3411310924889651),\n",
       " ({Param(parent='LogisticRegression_326f6aa1e3c5', name='regParam', doc='regularization parameter (>= 0).'): 0.5,\n",
       "   Param(parent='LogisticRegression_326f6aa1e3c5', name='maxIter', doc='max number of iterations (>= 0).'): 200},\n",
       "  0.3411310924889651),\n",
       " ({Param(parent='LogisticRegression_326f6aa1e3c5', name='regParam', doc='regularization parameter (>= 0).'): 0.1,\n",
       "   Param(parent='LogisticRegression_326f6aa1e3c5', name='maxIter', doc='max number of iterations (>= 0).'): 25},\n",
       "  0.4300174312583663),\n",
       " ({Param(parent='LogisticRegression_326f6aa1e3c5', name='regParam', doc='regularization parameter (>= 0).'): 0.1,\n",
       "   Param(parent='LogisticRegression_326f6aa1e3c5', name='maxIter', doc='max number of iterations (>= 0).'): 50},\n",
       "  0.4300174312583663),\n",
       " ({Param(parent='LogisticRegression_326f6aa1e3c5', name='regParam', doc='regularization parameter (>= 0).'): 0.1,\n",
       "   Param(parent='LogisticRegression_326f6aa1e3c5', name='maxIter', doc='max number of iterations (>= 0).'): 200},\n",
       "  0.4300174312583663),\n",
       " ({Param(parent='LogisticRegression_326f6aa1e3c5', name='regParam', doc='regularization parameter (>= 0).'): 0.01,\n",
       "   Param(parent='LogisticRegression_326f6aa1e3c5', name='maxIter', doc='max number of iterations (>= 0).'): 25},\n",
       "  0.4908710509391167),\n",
       " ({Param(parent='LogisticRegression_326f6aa1e3c5', name='regParam', doc='regularization parameter (>= 0).'): 0.01,\n",
       "   Param(parent='LogisticRegression_326f6aa1e3c5', name='maxIter', doc='max number of iterations (>= 0).'): 50},\n",
       "  0.4908710509391167),\n",
       " ({Param(parent='LogisticRegression_326f6aa1e3c5', name='regParam', doc='regularization parameter (>= 0).'): 0.01,\n",
       "   Param(parent='LogisticRegression_326f6aa1e3c5', name='maxIter', doc='max number of iterations (>= 0).'): 200},\n",
       "  0.4908710509391167)]"
      ]
     },
     "execution_count": 10,
     "metadata": {},
     "output_type": "execute_result"
    }
   ],
   "source": [
    "#Get the best parameters\n",
    "list(zip(grid,cv_train .avgMetrics))"
   ]
  },
  {
   "cell_type": "code",
   "execution_count": 11,
   "metadata": {},
   "outputs": [
    {
     "name": "stdout",
     "output_type": "stream",
     "text": [
      "---------------------\n",
      "Model: LogisticRegression\n",
      "\n",
      "F1:0.6190476190476191\n",
      "Accuracy:0.6190476190476191\n",
      "---------------------\n",
      "\n"
     ]
    }
   ],
   "source": [
    "#Using best parameter to train the model\n",
    "#We are going to use regParam = 0.01, max_Iter=200\n",
    "LR = LogisticRegression(maxIter=200,regParam=0.01)\n",
    "prediction_function(LR,train,test,ev)"
   ]
  },
  {
   "cell_type": "markdown",
   "metadata": {},
   "source": [
    "# Final Steps\n",
    "Clean up your code, adding comments and renaming variables to make the code easier to read and maintain. Refer to the Spark Project Overview page and Data Scientist Capstone Project Rubric to make sure you are including all components of the capstone project and meet all expectations. Remember, this includes thorough documentation in a README file in a Github repository, as well as a web app or blog post."
   ]
  },
  {
   "cell_type": "code",
   "execution_count": 15,
   "metadata": {},
   "outputs": [
    {
     "name": "stdout",
     "output_type": "stream",
     "text": [
      "Finished\n"
     ]
    }
   ],
   "source": [
    "print(\"Finished\")"
   ]
  },
  {
   "cell_type": "code",
   "execution_count": null,
   "metadata": {},
   "outputs": [],
   "source": []
  }
 ],
 "metadata": {
  "kernelspec": {
   "display_name": "Python 3",
   "language": "python",
   "name": "python3"
  },
  "language_info": {
   "codemirror_mode": {
    "name": "ipython",
    "version": 3
   },
   "file_extension": ".py",
   "mimetype": "text/x-python",
   "name": "python",
   "nbconvert_exporter": "python",
   "pygments_lexer": "ipython3",
   "version": "3.6.3"
  }
 },
 "nbformat": 4,
 "nbformat_minor": 2
}
